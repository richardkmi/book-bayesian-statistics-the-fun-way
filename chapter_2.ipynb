{
  "cells": [
    {
      "cell_type": "markdown",
      "metadata": {},
      "source": [
        "# Measuring Uncertainty\n",
        "\n",
        "## Questions\n",
        "\n",
        "1.  What is the probability of rolling two six-sided dice and getting a value greater than 7?\n"
      ],
      "id": "f2953bdf"
    },
    {
      "cell_type": "code",
      "metadata": {},
      "source": [
        "from sympy import *\n",
        "\n",
        "x, y = symbols('x y')\n",
        "event = (x + y) > 7\n",
        "sample_space = [(i, j) for i in range(1, 7) for j in range(1, 7)]\n",
        "prob = len([roll for roll in sample_space if event.subs({x: roll[0], y: roll[1]})]) / len(sample_space)\n",
        "\n",
        "print(f\"{round(prob,4) * 100}%\")"
      ],
      "id": "ed903e66",
      "execution_count": null,
      "outputs": []
    },
    {
      "cell_type": "markdown",
      "metadata": {},
      "source": [
        "2.  What is the probability of rolling three six-sided dice and getting a value greater than 7?\n"
      ],
      "id": "33659aa6"
    },
    {
      "cell_type": "code",
      "metadata": {},
      "source": [
        "x, y, z = symbols('x y z')\n",
        "event = (x + y + z) > 7\n",
        "sample_space = [(i, j, k) for i in range(1, 7) for j in range(1, 7) for k in range(1, 7)]\n",
        "\n",
        "prob = len([roll for roll in sample_space if event.subs({x: roll[0], y: roll[1], z: roll[2]})]) / len(sample_space)\n",
        "\n",
        "print(f\"{round(prob,4) * 100}%\")"
      ],
      "id": "6820e3af",
      "execution_count": null,
      "outputs": []
    },
    {
      "cell_type": "markdown",
      "metadata": {},
      "source": [
        "3.  The Yankees are playing the Red Sox. You're a diehard Sox fan and bet your friend they'll win the game. You'll pay your friend \\$30 if the Sox lose and your friend will have to pay you only \\$5 if the Sox win. What is the probability you have intuitively assigned to the belief that the Red Sox will win?\n",
        "\n",
        "> $O(\\text{Red Sox win}) = \\frac{30}{5} = 6$\n",
        "\n",
        "> $P(\\text{Red Sox win}) = \\frac{O(\\text{Red Sox win})}{1 + O(\\text{Red Sox win})} = \\text{86\\%}$\n",
        "\n",
        "> $O(\\text{Red Sox win}) = \\frac{.86}{1-.86} = \\approx{6}$"
      ],
      "id": "6d88c544"
    }
  ],
  "metadata": {
    "kernelspec": {
      "display_name": "Python 3",
      "language": "python",
      "name": "python3"
    }
  },
  "nbformat": 4,
  "nbformat_minor": 5
}