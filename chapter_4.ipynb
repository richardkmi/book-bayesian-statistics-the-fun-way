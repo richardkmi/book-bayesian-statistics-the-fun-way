{
  "cells": [
    {
      "cell_type": "markdown",
      "metadata": {},
      "source": [
        "# Creating a Binomial Probability Distribution\n",
        "\n",
        "## Questions\n",
        "\n",
        "### What are the parameters of the binomial distribution for the probability of rolling either a 1 or a 20 on a 20-sided die, if we roll the die 12 times?\n",
        "\n",
        "$n = 12$\n",
        "\n",
        "$k = 1$\n",
        "\n",
        "$p = frac{2}{20} = 10%$\n"
      ],
      "id": "88fd40d4"
    },
    {
      "cell_type": "code",
      "metadata": {},
      "source": [
        "from sympy import *\n",
        "\n",
        "k = 1   # number of successes\n",
        "p = 2/20 # probability of success\n",
        "\n",
        "probability = binomial_probability(n, k, p)\n",
        "print(probability)"
      ],
      "id": "9a057a0c",
      "execution_count": null,
      "outputs": []
    },
    {
      "cell_type": "markdown",
      "metadata": {},
      "source": [
        "### There are four aces in a deck of 52 cards. If you pull a card, return the card, then reshuffle and pull a card again, how many ways can you pull just one ace in five pulls?\n",
        "\n",
        "### For the example in question 2, what is the probability of pulling five aces in 10 pulls (remember the card is shuffled back in the deck when it is pulled)?\n",
        "\n",
        "### When you're searching for a new job, it's always helpful to have more than one offer on the table so you can use it in negotiations. If you have a 1/5 probability of receiving a job offer when you interview, and you interview with seven companies in a month, what is the probability you'll have at least two competing offers by the end of that month?\n",
        "\n",
        "### You get a bunch of recruiter emails and find out you have 25 interviews lined up in the next month. Unfortunately, you know this will leave you exhausted, and the probability of getting an offer will drop to 1/10 if you're tired. You really don't want to go on this many interviews unless you are at least twice as likely to get at least two competing offers. Are you more likely to get at least two offers if you go for 25 interviews, or stick to just 7?"
      ],
      "id": "03291b2f"
    }
  ],
  "metadata": {
    "kernelspec": {
      "name": "python3",
      "language": "python",
      "display_name": "Python 3 (ipykernel)"
    }
  },
  "nbformat": 4,
  "nbformat_minor": 5
}