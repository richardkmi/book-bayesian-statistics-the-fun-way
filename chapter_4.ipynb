{
  "cells": [
    {
      "cell_type": "markdown",
      "metadata": {},
      "source": [
        "# Creating a Binomial Probability Distribution\n",
        "\n",
        "## Questions\n",
        "\n",
        "1\\. What is the probability of rolling a 20 three times in a row on a 20-sided die?\n"
      ],
      "id": "2bf85823"
    },
    {
      "cell_type": "code",
      "metadata": {},
      "source": [
        "from sympy import *\n",
        "\n",
        "Rational(1,20) ** 3"
      ],
      "id": "cd224504",
      "execution_count": null,
      "outputs": []
    },
    {
      "cell_type": "markdown",
      "metadata": {},
      "source": [
        "2\\. The weather report says there's a 10 percent chance of rain tomorrow, and you forget your umbrella half the time you go out. What is the probability that you'll be caught in the rain without an umbrella tomorrow?\n"
      ],
      "id": "ecf52e96"
    },
    {
      "cell_type": "code",
      "metadata": {},
      "source": [
        "round(Rational(1/10) * Rational(1/2),2)"
      ],
      "id": "05b0b722",
      "execution_count": null,
      "outputs": []
    },
    {
      "cell_type": "markdown",
      "metadata": {},
      "source": [
        "3\\. Raw eggs have a 1/20,000 probability of having salmonella. If you eat two raw eggs, what is the probability you ate a raw egg with salmonella?\n"
      ],
      "id": "f200bdb1"
    },
    {
      "cell_type": "code",
      "metadata": {},
      "source": [
        "p_salmonella = Rational(1/20000)\n",
        "p_either = p_salmonella * 2\n",
        "p_both = p_salmonella ** 2\n",
        "round(p_either - p_both,4)"
      ],
      "id": "3030e3d7",
      "execution_count": null,
      "outputs": []
    },
    {
      "cell_type": "markdown",
      "metadata": {},
      "source": [
        "4\\. What is the probability of either flipping two heads in two coin tosses or rolling three 6s in three six-sided dice rolls?\n"
      ],
      "id": "a7a93f9e"
    },
    {
      "cell_type": "code",
      "metadata": {},
      "source": [
        "p_heads = Rational(1,2)\n",
        "p_two_heads = p_heads ** 2\n",
        "\n",
        "p_six = Rational(1,6)\n",
        "p_three_six = p_six ** 3\n",
        "\n",
        "p_three_six_or_two_heads = p_two_heads + p_three_six\n",
        "p_three_six_and_two_heads = p_two_heads * p_three_six\n",
        "\n",
        "round(p_three_six_or_two_heads - p_three_six_and_two_heads,4)\n"
      ],
      "id": "0d0196fa",
      "execution_count": null,
      "outputs": []
    }
  ],
  "metadata": {
    "kernelspec": {
      "name": "python388jvsc74a57bd07e99378fa4ac452b8e186b3395bfaae0a3d94ac30da9cd5b0c67c68e012d370e",
      "language": "python",
      "display_name": "Python 3.8.8 64-bit ('py_38': conda)"
    }
  },
  "nbformat": 4,
  "nbformat_minor": 5
}